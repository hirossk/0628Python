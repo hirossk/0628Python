{
  "nbformat": 4,
  "nbformat_minor": 0,
  "metadata": {
    "colab": {
      "provenance": [],
      "toc_visible": true,
      "authorship_tag": "ABX9TyNvVlju6NJx2vFYrr7+Qegb",
      "include_colab_link": true
    },
    "kernelspec": {
      "name": "python3",
      "display_name": "Python 3"
    },
    "language_info": {
      "name": "python"
    }
  },
  "cells": [
    {
      "cell_type": "markdown",
      "metadata": {
        "id": "view-in-github",
        "colab_type": "text"
      },
      "source": [
        "<a href=\"https://colab.research.google.com/github/hirossk/0628Python/blob/main/1_Python%E3%81%A7%E3%82%B0%E3%83%A9%E3%83%95%E8%A1%A8%E7%A4%BA.ipynb\" target=\"_parent\"><img src=\"https://colab.research.google.com/assets/colab-badge.svg\" alt=\"Open In Colab\"/></a>"
      ]
    },
    {
      "cell_type": "markdown",
      "metadata": {
        "id": "9BzC2rrkI0Y6"
      },
      "source": [
        "\n",
        "# Pythonによるデータ分析\n",
        "\n",
        "グラフを作成する方法を確認しましょう。\n",
        "\n"
      ]
    },
    {
      "cell_type": "markdown",
      "source": [
        "## グラフ入門\n",
        "\n",
        "### matplotlib\n",
        "matplotlibを使ってグラフを書くことができます。\n",
        "\n",
        "詳しい情報は以下のサイトがまとまっています。\n",
        "\n",
        "https://qiita.com/DeepTama/items/dfb714f155b529711109\n",
        "\n",
        "https://qiita.com/nkay/items/d1eb91e33b9d6469ef51\n",
        "\n",
        "https://qiita.com/Shmwa2/items/8f0d337c0bfb75a8716f\n"
      ],
      "metadata": {
        "id": "GFpL77ASF7xf"
      }
    },
    {
      "cell_type": "markdown",
      "source": [
        "最初に環境設定をしておきます。"
      ],
      "metadata": {
        "id": "Bgobh7M2hVnY"
      }
    },
    {
      "cell_type": "code",
      "source": [
        "# 日本語グラフを表示するために必要なライブラリのインストール\n",
        "!pip install japanize_matplotlib\n",
        "import japanize_matplotlib"
      ],
      "metadata": {
        "id": "MnHE2yvqYnut",
        "colab": {
          "base_uri": "https://localhost:8080/"
        },
        "outputId": "e3c75451-dd0b-4661-bc01-03c4450e8c9a"
      },
      "execution_count": 1,
      "outputs": [
        {
          "output_type": "stream",
          "name": "stdout",
          "text": [
            "Collecting japanize_matplotlib\n",
            "  Downloading japanize-matplotlib-1.1.3.tar.gz (4.1 MB)\n",
            "\u001b[2K     \u001b[90m━━━━━━━━━━━━━━━━━━━━━━━━━━━━━━━━━━━━━━━━\u001b[0m \u001b[32m4.1/4.1 MB\u001b[0m \u001b[31m11.5 MB/s\u001b[0m eta \u001b[36m0:00:00\u001b[0m\n",
            "\u001b[?25h  Preparing metadata (setup.py) ... \u001b[?25l\u001b[?25hdone\n",
            "Requirement already satisfied: matplotlib in /usr/local/lib/python3.10/dist-packages (from japanize_matplotlib) (3.7.1)\n",
            "Requirement already satisfied: contourpy>=1.0.1 in /usr/local/lib/python3.10/dist-packages (from matplotlib->japanize_matplotlib) (1.2.1)\n",
            "Requirement already satisfied: cycler>=0.10 in /usr/local/lib/python3.10/dist-packages (from matplotlib->japanize_matplotlib) (0.12.1)\n",
            "Requirement already satisfied: fonttools>=4.22.0 in /usr/local/lib/python3.10/dist-packages (from matplotlib->japanize_matplotlib) (4.53.0)\n",
            "Requirement already satisfied: kiwisolver>=1.0.1 in /usr/local/lib/python3.10/dist-packages (from matplotlib->japanize_matplotlib) (1.4.5)\n",
            "Requirement already satisfied: numpy>=1.20 in /usr/local/lib/python3.10/dist-packages (from matplotlib->japanize_matplotlib) (1.25.2)\n",
            "Requirement already satisfied: packaging>=20.0 in /usr/local/lib/python3.10/dist-packages (from matplotlib->japanize_matplotlib) (24.1)\n",
            "Requirement already satisfied: pillow>=6.2.0 in /usr/local/lib/python3.10/dist-packages (from matplotlib->japanize_matplotlib) (9.4.0)\n",
            "Requirement already satisfied: pyparsing>=2.3.1 in /usr/local/lib/python3.10/dist-packages (from matplotlib->japanize_matplotlib) (3.1.2)\n",
            "Requirement already satisfied: python-dateutil>=2.7 in /usr/local/lib/python3.10/dist-packages (from matplotlib->japanize_matplotlib) (2.8.2)\n",
            "Requirement already satisfied: six>=1.5 in /usr/local/lib/python3.10/dist-packages (from python-dateutil>=2.7->matplotlib->japanize_matplotlib) (1.16.0)\n",
            "Building wheels for collected packages: japanize_matplotlib\n",
            "  Building wheel for japanize_matplotlib (setup.py) ... \u001b[?25l\u001b[?25hdone\n",
            "  Created wheel for japanize_matplotlib: filename=japanize_matplotlib-1.1.3-py3-none-any.whl size=4120257 sha256=e1c945cbf7c85ccfbe41b7068e49abae1a1de820c42db46f99affa3ebb8eea5c\n",
            "  Stored in directory: /root/.cache/pip/wheels/61/7a/6b/df1f79be9c59862525070e157e62b08eab8ece27c1b68fbb94\n",
            "Successfully built japanize_matplotlib\n",
            "Installing collected packages: japanize_matplotlib\n",
            "Successfully installed japanize_matplotlib-1.1.3\n"
          ]
        }
      ]
    },
    {
      "cell_type": "markdown",
      "source": [
        "シンプルに棒グラフ（bar）を作成してみましょう。\n",
        "Excelと同じくグラフの装飾をしていきます。"
      ],
      "metadata": {
        "id": "9EbYaWFueB96"
      }
    },
    {
      "cell_type": "markdown",
      "source": [
        "ここでは横軸の軸ラベルと値を指定してグラフ化してみます。"
      ],
      "metadata": {
        "id": "cDZRPlNJgum1"
      }
    },
    {
      "cell_type": "code",
      "source": [
        "import matplotlib.pyplot as plt\n",
        "\n",
        "# 棒グラフをx軸のラベルを設定して表示します。\n",
        "# 棒グラフにはグラフの軸ラベル（x）とデータ(height)が必須となります。\n",
        "plt.bar(x = ['一番','二番','三番','四番'],height = [10,50,80,30])\n",
        "\n",
        "plt.show()"
      ],
      "metadata": {
        "id": "pjCAC1GtZO21"
      },
      "execution_count": null,
      "outputs": []
    },
    {
      "cell_type": "markdown",
      "source": [
        "折れ線グラフ(plot)"
      ],
      "metadata": {
        "id": "nDDsQ5ag04wH"
      }
    },
    {
      "cell_type": "code",
      "source": [
        "import matplotlib.pyplot as plt\n",
        "\n",
        "# 折れ線グラフ\n",
        "# x,y軸の値のセットを渡します。\n",
        "plt.plot([1, 2, 3, 4] ,[10 ,50 ,80 ,30])\n",
        "\n",
        "plt.show()"
      ],
      "metadata": {
        "id": "QScBi5tL0-vc"
      },
      "execution_count": null,
      "outputs": []
    },
    {
      "cell_type": "markdown",
      "source": [
        "散布図（scatter）"
      ],
      "metadata": {
        "id": "2q9KCvOkzczN"
      }
    },
    {
      "cell_type": "code",
      "source": [
        "import matplotlib.pyplot as plt\n",
        "\n",
        "# 散布図\n",
        "# x,y軸のデータを提供します。\n",
        "plt.scatter([10 ,50 ,80 ,30],[40, 50, 20, 80] )\n",
        "\n",
        "plt.show()"
      ],
      "metadata": {
        "id": "9XP_aCE_0fRj"
      },
      "execution_count": null,
      "outputs": []
    },
    {
      "cell_type": "markdown",
      "source": [
        "円グラフ（pie）"
      ],
      "metadata": {
        "id": "_F1yCT53v0OL"
      }
    },
    {
      "cell_type": "code",
      "source": [
        "import matplotlib.pyplot as plt\n",
        "\n",
        "# 円グラフ\n",
        "# 開始位置の設定とラベル付けを行う\n",
        "plt.pie([40 ,30 ,20 ,10],startangle=90, labels = ['A型','O型','B型','AB形'] )\n",
        "# 表示を時計回りにして割合も出しましょう\n",
        "# plt.pie([40 ,30 ,20 ,10],startangle=90, labels = ['A型','O型','B型','AB形'] ,\n",
        "#         autopct=\"%1.1f%%\",counterclock=False)\n",
        "\n",
        "plt.show()"
      ],
      "metadata": {
        "id": "glkcvz9owKfk"
      },
      "execution_count": null,
      "outputs": []
    },
    {
      "cell_type": "markdown",
      "source": [
        "ほかにもグラフがありますが、「matplotlib グラフ種類」で検索すると情報が得られます。\n"
      ],
      "metadata": {
        "id": "jS_md7Nlef2g"
      }
    },
    {
      "cell_type": "markdown",
      "source": [
        "次に棒グラフに戻り、詳細設定を行います。\n",
        "\n",
        "まずは軸ラベルの設定から行います。"
      ],
      "metadata": {
        "id": "cE2yVWAt1vwQ"
      }
    },
    {
      "cell_type": "code",
      "source": [
        "import matplotlib.pyplot as plt\n",
        "\n",
        "# 棒グラフをx軸のラベルを設定して表示します。\n",
        "# 棒グラフにはグラフの軸ラベル（x）とデータ(height)が必須となります。\n",
        "plt.bar(x = ['one','two','three','four'],height = [10,50,80,30])\n",
        "\n",
        "# X軸ラベルの表示\n",
        "# plt.xlabel('X軸')\n",
        "# Y軸ラベルの表示\n",
        "# plt.ylabel('Y軸')\n",
        "\n",
        "plt.show()"
      ],
      "metadata": {
        "id": "grnAJc8ubxHP"
      },
      "execution_count": null,
      "outputs": []
    },
    {
      "cell_type": "markdown",
      "source": [
        "凡例の表示を行います。"
      ],
      "metadata": {
        "id": "UFKg6vIYe5-I"
      }
    },
    {
      "cell_type": "code",
      "source": [
        "import matplotlib.pyplot as plt\n",
        "\n",
        "# 棒グラフをx軸のラベルを設定して表示します。\n",
        "# 棒グラフにはグラフの軸ラベル（x）とデータ(height)が必須となります。\n",
        "# 凡例はlabel引数で指定します。\n",
        "plt.bar(x = ['one','two','three','four'],height = [10,50,80,30],label='first')\n",
        "\n",
        "# X軸ラベルの表示\n",
        "# plt.xlabel('X labels')\n",
        "# Y軸ラベルの表示\n",
        "# plt.ylabel('Y labels')\n",
        "\n",
        "# 凡例の表示をします。\n",
        "# plt.legend()\n",
        "\n",
        "plt.show()"
      ],
      "metadata": {
        "id": "YdaZGm9ce8NR"
      },
      "execution_count": null,
      "outputs": []
    },
    {
      "cell_type": "markdown",
      "source": [
        "グラフにタイトルを設定します。"
      ],
      "metadata": {
        "id": "UBhKosNbk450"
      }
    },
    {
      "cell_type": "code",
      "source": [
        "import matplotlib.pyplot as plt\n",
        "\n",
        "\n",
        "plt.pie([40 ,30 ,20 ,10],startangle=90, labels = ['A型','O型','B型','AB形'] ,\n",
        "        autopct=\"%1.1f%%\",counterclock=False)\n",
        "# タイトルの設定\n",
        "# plt.title('このグラフはなんですか？')\n",
        "\n",
        "# 凡例の表示をします。\n",
        "plt.legend()\n",
        "\n",
        "plt.show()"
      ],
      "metadata": {
        "id": "fdpjBxOGk78W"
      },
      "execution_count": null,
      "outputs": []
    },
    {
      "cell_type": "markdown",
      "source": [
        "複数系列を追加するにはラベルの見出しとデータを設定します。"
      ],
      "metadata": {
        "id": "CyuOiJTBlZfn"
      }
    },
    {
      "cell_type": "code",
      "source": [
        "import matplotlib.pyplot as plt\n",
        "\n",
        "# 棒グラフをx軸のラベルを設定して表示します。\n",
        "# 棒グラフにはグラフの軸ラベル（x）とデータ(height)が必須となります。\n",
        "# 凡例はlabel引数で指定します。\n",
        "# first系列の指定、基準に対してマイナス位置とします。\n",
        "plt.bar(x = ['one','two','three','four'],height = [10,50,80,30],\n",
        "        align = 'edge', width = -0.3,label = 'first')\n",
        "# second系列の指定、基準に対してプラス位置とします。\n",
        "# plt.bar(x = ['one','two','three','four'],height = [20,30,40,50],\n",
        "#         align = 'edge' , width = 0.3,label = 'second')\n",
        "\n",
        "# タイトルの設定\n",
        "plt.title('Graph Title')\n",
        "\n",
        "# X軸ラベルの表示\n",
        "plt.xlabel('X labels')\n",
        "# Y軸ラベルの表示\n",
        "plt.ylabel('Y labels')\n",
        "\n",
        "# 凡例の表示をします。\n",
        "plt.legend()\n",
        "\n",
        "plt.show()\n"
      ],
      "metadata": {
        "id": "5zyFppTDlbWA"
      },
      "execution_count": null,
      "outputs": []
    },
    {
      "cell_type": "markdown",
      "source": [
        "積み上げ棒グラフ"
      ],
      "metadata": {
        "id": "NEAUviONoekY"
      }
    },
    {
      "cell_type": "code",
      "source": [
        "import matplotlib.pyplot as plt\n",
        "\n",
        "# 棒グラフをx軸のラベルを設定して表示します。\n",
        "# 棒グラフにはグラフの軸ラベル（x）とデータ(height)が必須となります。\n",
        "# 凡例はlabel引数で指定します。\n",
        "# first系列の指定\n",
        "plt.bar(x = ['one','two','three','four'],height = [10,50,80,30],\n",
        "        label = 'first')\n",
        "\n",
        "# second系列の指定(開始位置（bottom）を第一系列にします。)\n",
        "plt.bar(x = ['one','two','three','four'],height = [20,30,40,50],\n",
        "        bottom = [10,50,80,30] ,label = 'second')\n",
        "\n",
        "# タイトルの設定\n",
        "plt.title('Graph Title')\n",
        "\n",
        "# X軸ラベルの表示\n",
        "plt.xlabel('X labels')\n",
        "# Y軸ラベルの表示\n",
        "plt.ylabel('Y labels')\n",
        "\n",
        "# 凡例の表示をします。\n",
        "plt.legend()\n",
        "\n",
        "plt.show()"
      ],
      "metadata": {
        "id": "WkRgCgfMoibW"
      },
      "execution_count": null,
      "outputs": []
    },
    {
      "cell_type": "markdown",
      "source": [
        "データ系列の値を表示します。"
      ],
      "metadata": {
        "id": "mHWaGYc-oOiG"
      }
    },
    {
      "cell_type": "code",
      "source": [
        "import matplotlib.pyplot as plt\n",
        "\n",
        "# 棒グラフをx軸のラベルを設定して表示します。\n",
        "# 棒グラフにはグラフの軸ラベル（x）とデータ(height)が必須となります。\n",
        "# 凡例はlabel引数で指定します。\n",
        "# first系列の指定\n",
        "one = plt.bar(x = ['one','two','three','four'],height = [10,50,80,30],\n",
        "        label = 'first')\n",
        "# second系列の指定(開始位置を第一系列にします。)\n",
        "\n",
        "two = plt.bar(x = ['one','two','three','four'],height = [20,30,40,50],\n",
        "        bottom = [10,50,80,30] ,label = 'second')\n",
        "\n",
        "# タイトルの設定\n",
        "plt.title('Graph Title')\n",
        "\n",
        "# X軸ラベルの表示\n",
        "plt.xlabel('X labels')\n",
        "# Y軸ラベルの表示\n",
        "plt.ylabel('Y labels')\n",
        "\n",
        "# 凡例の表示をします。\n",
        "plt.legend()\n",
        "\n",
        "# label_typeに'center'以外に'edge'を設定できます。\n",
        "# plt.bar_label(one , padding=0, fontsize=14, label_type='center')\n",
        "# plt.bar_label(two , padding=0, fontsize=14, label_type='center')\n",
        "\n",
        "plt.show()\n",
        "\n"
      ],
      "metadata": {
        "id": "fViMCF49pqWR",
        "colab": {
          "base_uri": "https://localhost:8080/",
          "height": 469
        },
        "outputId": "d38b34bc-ea91-4c88-b219-ab59e41241ce"
      },
      "execution_count": 13,
      "outputs": [
        {
          "output_type": "display_data",
          "data": {
            "text/plain": [
              "<Figure size 640x480 with 1 Axes>"
            ],
            "image/png": "[encoded data removed]"
          },
          "metadata": {}
        }
      ]
    },
    {
      "cell_type": "markdown",
      "metadata": {
        "id": "i1cQhb4EkPku"
      },
      "source": [
        "#WebAPIによるデータ利用\n",
        "\n",
        "札幌市の国勢調査データを利用してみましょう。\n",
        "\n",
        "https://ckan.pf-sapporo.jp/dataset/suikeijinkou\n"
      ]
    },
    {
      "cell_type": "code",
      "metadata": {
        "colab": {
          "base_uri": "https://localhost:8080/"
        },
        "id": "35gKUrRwkWA-",
        "outputId": "5a4ec65a-6fb1-4c06-fcc4-9c38818362e4"
      },
      "source": [
        "import urllib\n",
        "import urllib.request\n",
        "import json\n",
        "\n",
        "url = 'https://ckan.pf-sapporo.jp/api/3/action/datastore_search?resource_id=710b0236-6b28-441e-8500-f5c9be2e4c4a'\n",
        "response = urllib.request.urlopen(url)\n",
        "content = json.loads(response.read().decode('utf8'))\n",
        "\n",
        "print(content)"
      ],
      "execution_count": null,
      "outputs": [
        {
          "output_type": "stream",
          "name": "stdout",
          "text": [
            "{'help': 'https://ckan.pf-sapporo.jp/api/3/action/help_show?name=datastore_search', 'success': True, 'result': {'include_total': True, 'limit': 100, 'records_format': 'objects', 'resource_id': '710b0236-6b28-441e-8500-f5c9be2e4c4a', 'total_estimation_threshold': None, 'records': [{'_id': 1, '項目': '', '17年（2005）': '1）', '22年（2010）': '1）', '27年（2015）': '2）', '32年（2020）': '2）', '37年（2025）': '2）', '42年（2030）': '2）', '47年（2035）': '2）'}, {'_id': 2, '項目': '', '17年（2005）': '千人（％）', '22年（2010）': '千人（％）', '27年（2015）': '千人（％）', '32年（2020）': '千人（％）', '37年（2025）': '千人（％）', '42年（2030）': '千人（％）', '47年（2035）': '千人（％）'}, {'_id': 3, '項目': '総人口', '17年（2005）': '1,881（100.0）', '22年（2010）': '1,914（100.0）', '27年（2015）': '1,937（100.0）', '32年（2020）': '1,933（100.0）', '37年（2025）': '1,911（100.0）', '42年（2030）': '1,871（100.0）', '47年（2035）': '1,818（100.0）'}, {'_id': 4, '項目': '年少人口（0～14歳）', '17年（2005）': '234（ 12.4）', '22年（2010）': '224（ 11.7）', '27年（2015）': '217（ 11.2）', '32年（2020）': '205（ 10.6）', '37年（2025）': '189（ 9.9）', '42年（2030）': '171（ 9.1）', '47年（2035）': '156（\\xa08.6）'}, {'_id': 5, '項目': '生産年齢人口（15～64歳）', '17年（2005）': '1,318（ 70.1）', '22年（2010）': '1,292（ 67.5）', '27年（2015）': '1,234（ 63.7）', '32年（2020）': '1,179（ 61.0）', '37年（2025）': '1,139（ 59.6）', '42年（2030）': '1,089（ 58.2）', '47年（2035）': '1,024（ 56.3）'}, {'_id': 6, '項目': '老年人口（65歳以上）', '17年（2005）': '325（ 17.3）', '22年（2010）': '392（ 20.5）', '27年（2015）': '486（ 25.1）', '32年（2020）': '549（ 28.4）', '37年（2025）': '583（ 30.5）', '42年（2030）': '611（ 32.7）', '47年（2035）': '638（ 35.1）'}, {'_id': 7, '項目': '', '17年（2005）': '', '22年（2010）': '', '27年（2015）': '', '32年（2020）': '', '37年（2025）': '', '42年（2030）': '', '47年（2035）': ''}, {'_id': 8, '項目': '注：1）国勢調査人口による。総人口には年齢不詳も含む。2）推計値である。', '17年（2005）': '', '22年（2010）': '', '27年（2015）': '', '32年（2020）': '', '37年（2025）': '', '42年（2030）': '', '47年（2035）': ''}, {'_id': 9, '項目': '＜資料＞総務省統計局「国勢調査」、市長政策室政策企画部企画課', '17年（2005）': '', '22年（2010）': '', '27年（2015）': '', '32年（2020）': '', '37年（2025）': '', '42年（2030）': '', '47年（2035）': ''}], 'fields': [{'id': '_id', 'type': 'int'}, {'id': '項目', 'type': 'text'}, {'id': '17年（2005）', 'type': 'text'}, {'id': '22年（2010）', 'type': 'text'}, {'id': '27年（2015）', 'type': 'text'}, {'id': '32年（2020）', 'type': 'text'}, {'id': '37年（2025）', 'type': 'text'}, {'id': '42年（2030）', 'type': 'text'}, {'id': '47年（2035）', 'type': 'text'}], '_links': {'start': '/api/3/action/datastore_search?resource_id=710b0236-6b28-441e-8500-f5c9be2e4c4a', 'next': '/api/3/action/datastore_search?resource_id=710b0236-6b28-441e-8500-f5c9be2e4c4a&offset=100'}, 'total': 9, 'total_was_estimated': False}}\n"
          ]
        }
      ]
    },
    {
      "cell_type": "code",
      "metadata": {
        "id": "LxNlJLe4kcrR"
      },
      "source": [
        "import urllib\n",
        "import urllib.request\n",
        "import json\n",
        "\n",
        "url = 'https://ckan.pf-sapporo.jp/api/3/action/datastore_search?resource_id=710b0236-6b28-441e-8500-f5c9be2e4c4a'\n",
        "response = urllib.request.urlopen(url)\n",
        "content = json.loads(response.read().decode('utf8'))\n",
        "\n",
        "#値を取り出すための変数を用意\n",
        "recode = content[\"result\"][\"records\"][2]\n",
        "for k, v in recode.items():\n",
        "    print(k + \":\" + str(v))"
      ],
      "execution_count": null,
      "outputs": []
    },
    {
      "cell_type": "code",
      "metadata": {
        "id": "GHMaXwvXkgTL"
      },
      "source": [
        "import urllib\n",
        "import urllib.request\n",
        "import json\n",
        "import re\n",
        "import matplotlib.pyplot as plt\n",
        "import japanize_matplotlib\n",
        "\n",
        "url = 'https://ckan.pf-sapporo.jp/api/3/action/datastore_search?resource_id=710b0236-6b28-441e-8500-f5c9be2e4c4a'\n",
        "response = urllib.request.urlopen(url)\n",
        "content = json.loads(response.read().decode('utf8'))\n",
        "\n",
        "#値を取り出すための変数を用意\n",
        "recode = content[\"result\"][\"records\"][2]\n",
        "#データラベルを初期化\n",
        "label = []\n",
        "#グラフデータを初期化\n",
        "data = []\n",
        "\n",
        "listdata = list(recode.items())\n",
        "listdata.pop(0)\n",
        "listdata.pop(0)\n",
        "for k, v in listdata:\n",
        "    l = re.search('[0-9]+年', k).group()\n",
        "    label.append(l)\n",
        "    v = v.replace(',','')\n",
        "    n = int(re.search('[0-9]+', v).group())\n",
        "    data.append(n*1000)\n",
        "print(label, data)\n",
        "x = [ 1, 2, 3, 4, 5, 6, 7 ]\n",
        "plt.bar( x, data ,tick_label = label)\n",
        "\n",
        "plt.show()"
      ],
      "execution_count": null,
      "outputs": []
    },
    {
      "cell_type": "code",
      "metadata": {
        "id": "hcHUMK0Skm-J"
      },
      "source": [
        "import urllib\n",
        "import urllib.request\n",
        "import json\n",
        "#全国JSONはこちらからhttps://www.jma.go.jp/bosai/forecast/data/forecast/010000.json\n",
        "#詳細データ\n",
        "url = 'https://www.jma.go.jp/bosai/forecast/data/forecast/012000.json'\n",
        "#概況\n",
        "url = 'https://www.jma.go.jp/bosai/forecast/data/overview_forecast/012000.json'\n",
        "response = urllib.request.urlopen(url)\n",
        "content = json.loads(response.read().decode('utf8'))\n",
        "\n",
        "#概況の表示\n",
        "print(content[\"text\"])"
      ],
      "execution_count": null,
      "outputs": []
    }
  ]
}