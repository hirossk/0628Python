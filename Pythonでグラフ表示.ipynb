{
  "nbformat": 4,
  "nbformat_minor": 0,
  "metadata": {
    "colab": {
      "provenance": [],
      "authorship_tag": "ABX9TyMLz5jo54VHkSz2CzdYYNjd",
      "include_colab_link": true
    },
    "kernelspec": {
      "name": "python3",
      "display_name": "Python 3"
    },
    "language_info": {
      "name": "python"
    }
  },
  "cells": [
    {
      "cell_type": "markdown",
      "metadata": {
        "id": "view-in-github",
        "colab_type": "text"
      },
      "source": [
        "<a href=\"https://colab.research.google.com/github/hirossk/python02/blob/main/Python%E3%81%A7%E3%82%B0%E3%83%A9%E3%83%95%E8%A1%A8%E7%A4%BA.ipynb\" target=\"_parent\"><img src=\"https://colab.research.google.com/assets/colab-badge.svg\" alt=\"Open In Colab\"/></a>"
      ]
    },
    {
      "cell_type": "markdown",
      "metadata": {
        "id": "ZEjSqssAh1y6"
      },
      "source": [
        "#Pythonによる統計とグラフ\n",
        "\n"
      ]
    },
    {
      "cell_type": "markdown",
      "metadata": {
        "id": "A_IV96nYiN20"
      },
      "source": [
        "#グラフ"
      ]
    },
    {
      "cell_type": "code",
      "metadata": {
        "colab": {
          "base_uri": "https://localhost:8080/",
          "height": 265
        },
        "id": "4CchaIHqiQ9b",
        "outputId": "7065b7a6-22db-4cb9-9ea1-103010e7cc02"
      },
      "source": [
        "import matplotlib.pyplot as plt\n",
        "\n",
        "x = [ 1, 2, 3, 4, 5, 6 ]\n",
        "data = [ 100, 50, 200, 300, 350, 500 ]\n",
        "plt.plot( x, data )\n",
        "plt.show()"
      ],
      "execution_count": null,
      "outputs": [
        {
          "output_type": "display_data",
          "data": {
            "image/png": "[encoded data removed]",
            "text/plain": [
              "<Figure size 432x288 with 1 Axes>"
            ]
          },
          "metadata": {
            "needs_background": "light"
          }
        }
      ]
    },
    {
      "cell_type": "code",
      "metadata": {
        "colab": {
          "base_uri": "https://localhost:8080/",
          "height": 265
        },
        "id": "optE-eyoiaGQ",
        "outputId": "5c831350-9f72-4421-c5eb-4a138ce9bbeb"
      },
      "source": [
        "import matplotlib.pyplot as plt\n",
        "\n",
        "x = [ 1, 2, 3, 4, 5, 6 ]\n",
        "data = [ 200, 220, 240, 220, 260, 210 ]\n",
        "\n",
        "plt.bar( x, data )\n",
        "plt.show()"
      ],
      "execution_count": null,
      "outputs": [
        {
          "output_type": "display_data",
          "data": {
            "image/png": "[encoded data removed]",
            "text/plain": [
              "<Figure size 432x288 with 1 Axes>"
            ]
          },
          "metadata": {
            "needs_background": "light"
          }
        }
      ]
    },
    {
      "cell_type": "code",
      "metadata": {
        "colab": {
          "base_uri": "https://localhost:8080/",
          "height": 248
        },
        "id": "Q5UdYb04ieYg",
        "outputId": "bf3d4a3a-9a03-47c5-fc0c-a0fc88f6f096"
      },
      "source": [
        "import matplotlib.pyplot as plt\n",
        "\n",
        "data = [ 100, 200, 300, 400, 500, 600 ]\n",
        "plt.pie( data )\n",
        "#pieを使ってデータを指定します。\n",
        "plt.show()"
      ],
      "execution_count": null,
      "outputs": [
        {
          "output_type": "display_data",
          "data": {
            "image/png": "[encoded data removed]",
            "text/plain": [
              "<Figure size 432x288 with 1 Axes>"
            ]
          },
          "metadata": {}
        }
      ]
    },
    {
      "cell_type": "code",
      "metadata": {
        "colab": {
          "base_uri": "https://localhost:8080/"
        },
        "id": "t7huvWEnizeH",
        "outputId": "a6004e79-ae5d-47cf-cf35-440a0c936250"
      },
      "source": [
        "!pip install japanize-matplotlib"
      ],
      "execution_count": 4,
      "outputs": [
        {
          "output_type": "stream",
          "name": "stdout",
          "text": [
            "Collecting japanize-matplotlib\n",
            "  Downloading japanize-matplotlib-1.1.3.tar.gz (4.1 MB)\n",
            "\u001b[?25l     \u001b[90m━━━━━━━━━━━━━━━━━━━━━━━━━━━━━━━━━━━━━━━━\u001b[0m \u001b[32m0.0/4.1 MB\u001b[0m \u001b[31m?\u001b[0m eta \u001b[36m-:--:--\u001b[0m\r\u001b[2K     \u001b[91m━━━\u001b[0m\u001b[90m╺\u001b[0m\u001b[90m━━━━━━━━━━━━━━━━━━━━━━━━━━━━━━━━━━━━\u001b[0m \u001b[32m0.4/4.1 MB\u001b[0m \u001b[31m10.5 MB/s\u001b[0m eta \u001b[36m0:00:01\u001b[0m\r\u001b[2K     \u001b[91m━━━━━━━━━━━━━━━━━━━━━━━━━\u001b[0m\u001b[90m╺\u001b[0m\u001b[90m━━━━━━━━━━━━━━\u001b[0m \u001b[32m2.6/4.1 MB\u001b[0m \u001b[31m37.2 MB/s\u001b[0m eta \u001b[36m0:00:01\u001b[0m\r\u001b[2K     \u001b[91m━━━━━━━━━━━━━━━━━━━━━━━━━━━━━━━━━━━━━━━\u001b[0m\u001b[91m╸\u001b[0m \u001b[32m4.1/4.1 MB\u001b[0m \u001b[31m46.8 MB/s\u001b[0m eta \u001b[36m0:00:01\u001b[0m\r\u001b[2K     \u001b[90m━━━━━━━━━━━━━━━━━━━━━━━━━━━━━━━━━━━━━━━━\u001b[0m \u001b[32m4.1/4.1 MB\u001b[0m \u001b[31m34.9 MB/s\u001b[0m eta \u001b[36m0:00:00\u001b[0m\n",
            "\u001b[?25h  Preparing metadata (setup.py) ... \u001b[?25l\u001b[?25hdone\n",
            "Requirement already satisfied: matplotlib in /usr/local/lib/python3.10/dist-packages (from japanize-matplotlib) (3.7.1)\n",
            "Requirement already satisfied: contourpy>=1.0.1 in /usr/local/lib/python3.10/dist-packages (from matplotlib->japanize-matplotlib) (1.2.1)\n",
            "Requirement already satisfied: cycler>=0.10 in /usr/local/lib/python3.10/dist-packages (from matplotlib->japanize-matplotlib) (0.12.1)\n",
            "Requirement already satisfied: fonttools>=4.22.0 in /usr/local/lib/python3.10/dist-packages (from matplotlib->japanize-matplotlib) (4.53.0)\n",
            "Requirement already satisfied: kiwisolver>=1.0.1 in /usr/local/lib/python3.10/dist-packages (from matplotlib->japanize-matplotlib) (1.4.5)\n",
            "Requirement already satisfied: numpy>=1.20 in /usr/local/lib/python3.10/dist-packages (from matplotlib->japanize-matplotlib) (1.25.2)\n",
            "Requirement already satisfied: packaging>=20.0 in /usr/local/lib/python3.10/dist-packages (from matplotlib->japanize-matplotlib) (24.1)\n",
            "Requirement already satisfied: pillow>=6.2.0 in /usr/local/lib/python3.10/dist-packages (from matplotlib->japanize-matplotlib) (9.4.0)\n",
            "Requirement already satisfied: pyparsing>=2.3.1 in /usr/local/lib/python3.10/dist-packages (from matplotlib->japanize-matplotlib) (3.1.2)\n",
            "Requirement already satisfied: python-dateutil>=2.7 in /usr/local/lib/python3.10/dist-packages (from matplotlib->japanize-matplotlib) (2.8.2)\n",
            "Requirement already satisfied: six>=1.5 in /usr/local/lib/python3.10/dist-packages (from python-dateutil>=2.7->matplotlib->japanize-matplotlib) (1.16.0)\n",
            "Building wheels for collected packages: japanize-matplotlib\n",
            "  Building wheel for japanize-matplotlib (setup.py) ... \u001b[?25l\u001b[?25hdone\n",
            "  Created wheel for japanize-matplotlib: filename=japanize_matplotlib-1.1.3-py3-none-any.whl size=4120257 sha256=487c0eb876905162447057f1d34129a2aeff69088ce9414b998a0e9dc1084214\n",
            "  Stored in directory: /root/.cache/pip/wheels/61/7a/6b/df1f79be9c59862525070e157e62b08eab8ece27c1b68fbb94\n",
            "Successfully built japanize-matplotlib\n",
            "Installing collected packages: japanize-matplotlib\n",
            "Successfully installed japanize-matplotlib-1.1.3\n"
          ]
        }
      ]
    },
    {
      "cell_type": "code",
      "metadata": {
        "colab": {
          "base_uri": "https://localhost:8080/",
          "height": 429
        },
        "id": "VZBbFs0Fihcy",
        "outputId": "93f605c4-670e-4058-921a-e9f7d7460b68"
      },
      "source": [
        "import matplotlib.pyplot as plt\n",
        "import japanize_matplotlib\n",
        "#日本語matplotlibを設定\n",
        "\n",
        "x = [ 1, 2, 3, 4, 5, 6 ]\n",
        "data = [ 200, 220, 240, 220, 260, 210 ]\n",
        "label = [ '西区','東区','南区','北区','豊平区','手稲区']\n",
        "#データラベルを指定することもできる\n",
        "plt.bar( x, data ,tick_label = label)\n",
        "\n",
        "plt.show()"
      ],
      "execution_count": 5,
      "outputs": [
        {
          "output_type": "display_data",
          "data": {
            "text/plain": [
              "<Figure size 640x480 with 1 Axes>"
            ],
            "image/png": "[encoded data removed]"
          },
          "metadata": {}
        }
      ]
    },
    {
      "cell_type": "markdown",
      "metadata": {
        "id": "CAPsC9a8i_ID"
      },
      "source": [
        "#numpyによる数値計算\n"
      ]
    },
    {
      "cell_type": "code",
      "metadata": {
        "colab": {
          "base_uri": "https://localhost:8080/"
        },
        "id": "HNKf6u7ajOG2",
        "outputId": "3a22c636-24f9-4e0a-bbc3-525c992d281c"
      },
      "source": [
        "import numpy as np\n",
        "\n",
        "#listの生成\n",
        "a = [ 1, 2, 3, 4, 5]\n",
        "print(a)\n",
        "#配列要素の生成\n",
        "b = np.array([ 1, 2, 3, 4, 5])\n",
        "print(b)\n",
        "\n",
        "#listの長さが2倍\n",
        "print( a * 2 )\n",
        "#配列要素の中身がそれぞれ２倍\n",
        "print( b * 2 )\n",
        "#配列要素の要素同士が乗算される\n",
        "print( b * b )"
      ],
      "execution_count": null,
      "outputs": [
        {
          "output_type": "stream",
          "name": "stdout",
          "text": [
            "[1, 2, 3, 4, 5]\n",
            "[1 2 3 4 5]\n",
            "[1, 2, 3, 4, 5, 1, 2, 3, 4, 5]\n",
            "[ 2  4  6  8 10]\n",
            "[ 1  4  9 16 25]\n"
          ]
        }
      ]
    },
    {
      "cell_type": "code",
      "metadata": {
        "colab": {
          "base_uri": "https://localhost:8080/"
        },
        "id": "tqttxvvcjU5k",
        "outputId": "e3b2b4f6-5489-463e-cc3e-4479bd461dc9"
      },
      "source": [
        "import numpy as np\n",
        "\n",
        "#rangeとよく似ていますが、整数以外も生成可能\n",
        "print(np.arange(5))\n",
        "#print(np.arange(0, 2, 0.4))\n",
        "#linspaceを使うと値を等分したリストを生成可能\n",
        "#print(np.linspace(0,100,5))\n",
        "#10個の配列要素としての乱数を同時生成\n",
        "#print(np.random.rand(10))"
      ],
      "execution_count": null,
      "outputs": [
        {
          "output_type": "stream",
          "name": "stdout",
          "text": [
            "[0 1 2 3 4]\n",
            "[0.  0.4 0.8 1.2 1.6]\n"
          ]
        }
      ]
    },
    {
      "cell_type": "code",
      "metadata": {
        "colab": {
          "base_uri": "https://localhost:8080/"
        },
        "id": "3-RcG_F6jZ9c",
        "outputId": "0d0962e6-eb49-48bf-fe28-3b57de440350"
      },
      "source": [
        "import numpy as np\n",
        "\n",
        "ransu = np.random.randint(1, 4, 10)\n",
        "print(ransu)\n",
        "#3のところを確認する\n",
        "#print(ransu == 3)\n",
        "#3の数を数える\n",
        "#print(np.count_nonzero(ransu == 3))"
      ],
      "execution_count": null,
      "outputs": [
        {
          "output_type": "stream",
          "name": "stdout",
          "text": [
            "[2 1 1 1 3 1 3 3 3 1]\n"
          ]
        }
      ]
    },
    {
      "cell_type": "code",
      "metadata": {
        "colab": {
          "base_uri": "https://localhost:8080/",
          "height": 567
        },
        "id": "ksoZsxVJji_7",
        "outputId": "841e9f48-1934-45b6-a984-d76707ab23b8"
      },
      "source": [
        "import numpy as np # 整数をカウントするための関数呼び出し\n",
        "import matplotlib.pyplot as plt # グラフプロットの呼び出し\n",
        "\n",
        "for times in range(1,3):\n",
        "    saikoro = np.random.randint(1, 6+1, 6 ** times) # サイコロを 100 回振る\n",
        "    deme = [ ] # 出目の数を数える配列\n",
        "    for i in range(6):\n",
        "        deme.append(np.count_nonzero(saikoro==i+1)) # 数を数えて配列に追加\n",
        "    left = [1, 2, 3, 4, 5, 6] # グラフの左方向の値指定用\n",
        "    plt.cla()\n",
        "    plt.title(\"SAIKORO SIMULATION \" + str(6 ** times) + \" KAI\")\n",
        "                    # グラフのタイトル\n",
        "    plt.xlabel(\"ME\") #X 軸のラベル\n",
        "    plt.ylabel(\"KAISUU\") #Y 軸のラベル\n",
        "    plt.bar(left, deme, align=\"center\") # グラフをプロット\n",
        "    plt.draw()\n",
        "    plt.pause(2)\n",
        "\n",
        "plt.show()\n"
      ],
      "execution_count": null,
      "outputs": [
        {
          "output_type": "display_data",
          "data": {
            "image/png": "[encoded data removed]",
            "text/plain": [
              "<Figure size 432x288 with 1 Axes>"
            ]
          },
          "metadata": {
            "needs_background": "light"
          }
        },
        {
          "output_type": "display_data",
          "data": {
            "image/png": "[encoded data removed]",
            "text/plain": [
              "<Figure size 432x288 with 1 Axes>"
            ]
          },
          "metadata": {
            "needs_background": "light"
          }
        }
      ]
    },
    {
      "cell_type": "code",
      "metadata": {
        "colab": {
          "base_uri": "https://localhost:8080/",
          "height": 264
        },
        "id": "WS6nUx_Ojy8A",
        "outputId": "5bda0454-7325-4a46-b267-7777e551dd4e"
      },
      "source": [
        "import numpy as np\n",
        "import matplotlib.pyplot as plt\n",
        "\n",
        "#sinカーブの描画のための-180°～180までのradian設定\n",
        "kakudo = np.linspace( -np.pi, np.pi, 361)\n",
        "x = np.linspace(-180,180,361)\n",
        "plt.plot(x, np.sin(kakudo))\n",
        "plt.show()"
      ],
      "execution_count": null,
      "outputs": [
        {
          "output_type": "display_data",
          "data": {
            "image/png": "[encoded data removed]",
            "text/plain": [
              "<Figure size 432x288 with 1 Axes>"
            ]
          },
          "metadata": {
            "needs_background": "light"
          }
        }
      ]
    },
    {
      "cell_type": "code",
      "metadata": {
        "colab": {
          "base_uri": "https://localhost:8080/"
        },
        "id": "rUq2jXvhj3f-",
        "outputId": "5d422d41-e9ed-405c-deb5-ea47cb8549a1"
      },
      "source": [
        "import numpy as np\n",
        "\n",
        "a = np.full(10,1.05)\n",
        "b = np.arange(1, 11)\n",
        "c = a ** b\n",
        "print(a,b)\n",
        "print(c)"
      ],
      "execution_count": null,
      "outputs": [
        {
          "output_type": "stream",
          "name": "stdout",
          "text": [
            "[1.05 1.05 1.05 1.05 1.05 1.05 1.05 1.05 1.05 1.05] [ 1  2  3  4  5  6  7  8  9 10]\n",
            "[1.05       1.1025     1.157625   1.21550625 1.27628156 1.34009564\n",
            " 1.40710042 1.47745544 1.55132822 1.62889463]\n"
          ]
        }
      ]
    },
    {
      "cell_type": "markdown",
      "metadata": {
        "id": "i1cQhb4EkPku"
      },
      "source": [
        "#WebAPIによる統計データ利用\n"
      ]
    },
    {
      "cell_type": "code",
      "metadata": {
        "colab": {
          "base_uri": "https://localhost:8080/"
        },
        "id": "35gKUrRwkWA-",
        "outputId": "53b6fd57-8c1c-4cda-bea3-0e44f02360ef"
      },
      "source": [
        "import urllib\n",
        "import urllib.request\n",
        "import json\n",
        "\n",
        "url = 'https://ckan.pf-sapporo.jp/api/3/action/datastore_search?resource_id=710b0236-6b28-441e-8500-f5c9be2e4c4a'\n",
        "response = urllib.request.urlopen(url)\n",
        "content = json.loads(response.read().decode('utf8'))\n",
        "\n",
        "print(content)"
      ],
      "execution_count": 1,
      "outputs": [
        {
          "output_type": "stream",
          "name": "stdout",
          "text": [
            "{'help': 'https://ckan.pf-sapporo.jp/api/3/action/help_show?name=datastore_search', 'success': True, 'result': {'include_total': True, 'limit': 100, 'records_format': 'objects', 'resource_id': '710b0236-6b28-441e-8500-f5c9be2e4c4a', 'total_estimation_threshold': None, 'records': [{'_id': 1, '項目': '', '17年（2005）': '1）', '22年（2010）': '1）', '27年（2015）': '2）', '32年（2020）': '2）', '37年（2025）': '2）', '42年（2030）': '2）', '47年（2035）': '2）'}, {'_id': 2, '項目': '', '17年（2005）': '千人（％）', '22年（2010）': '千人（％）', '27年（2015）': '千人（％）', '32年（2020）': '千人（％）', '37年（2025）': '千人（％）', '42年（2030）': '千人（％）', '47年（2035）': '千人（％）'}, {'_id': 3, '項目': '総人口', '17年（2005）': '1,881（100.0）', '22年（2010）': '1,914（100.0）', '27年（2015）': '1,937（100.0）', '32年（2020）': '1,933（100.0）', '37年（2025）': '1,911（100.0）', '42年（2030）': '1,871（100.0）', '47年（2035）': '1,818（100.0）'}, {'_id': 4, '項目': '年少人口（0～14歳）', '17年（2005）': '234（ 12.4）', '22年（2010）': '224（ 11.7）', '27年（2015）': '217（ 11.2）', '32年（2020）': '205（ 10.6）', '37年（2025）': '189（ 9.9）', '42年（2030）': '171（ 9.1）', '47年（2035）': '156（\\xa08.6）'}, {'_id': 5, '項目': '生産年齢人口（15～64歳）', '17年（2005）': '1,318（ 70.1）', '22年（2010）': '1,292（ 67.5）', '27年（2015）': '1,234（ 63.7）', '32年（2020）': '1,179（ 61.0）', '37年（2025）': '1,139（ 59.6）', '42年（2030）': '1,089（ 58.2）', '47年（2035）': '1,024（ 56.3）'}, {'_id': 6, '項目': '老年人口（65歳以上）', '17年（2005）': '325（ 17.3）', '22年（2010）': '392（ 20.5）', '27年（2015）': '486（ 25.1）', '32年（2020）': '549（ 28.4）', '37年（2025）': '583（ 30.5）', '42年（2030）': '611（ 32.7）', '47年（2035）': '638（ 35.1）'}, {'_id': 7, '項目': '', '17年（2005）': '', '22年（2010）': '', '27年（2015）': '', '32年（2020）': '', '37年（2025）': '', '42年（2030）': '', '47年（2035）': ''}, {'_id': 8, '項目': '注：1）国勢調査人口による。総人口には年齢不詳も含む。2）推計値である。', '17年（2005）': '', '22年（2010）': '', '27年（2015）': '', '32年（2020）': '', '37年（2025）': '', '42年（2030）': '', '47年（2035）': ''}, {'_id': 9, '項目': '＜資料＞総務省統計局「国勢調査」、市長政策室政策企画部企画課', '17年（2005）': '', '22年（2010）': '', '27年（2015）': '', '32年（2020）': '', '37年（2025）': '', '42年（2030）': '', '47年（2035）': ''}], 'fields': [{'id': '_id', 'type': 'int'}, {'id': '項目', 'type': 'text'}, {'id': '17年（2005）', 'type': 'text'}, {'id': '22年（2010）', 'type': 'text'}, {'id': '27年（2015）', 'type': 'text'}, {'id': '32年（2020）', 'type': 'text'}, {'id': '37年（2025）', 'type': 'text'}, {'id': '42年（2030）', 'type': 'text'}, {'id': '47年（2035）', 'type': 'text'}], '_links': {'start': '/api/3/action/datastore_search?resource_id=710b0236-6b28-441e-8500-f5c9be2e4c4a', 'next': '/api/3/action/datastore_search?resource_id=710b0236-6b28-441e-8500-f5c9be2e4c4a&offset=100'}, 'total': 9, 'total_was_estimated': False}}\n"
          ]
        }
      ]
    },
    {
      "cell_type": "code",
      "metadata": {
        "colab": {
          "base_uri": "https://localhost:8080/"
        },
        "id": "LxNlJLe4kcrR",
        "outputId": "309e2113-dc1e-46d4-9dd8-8015bffb63c8"
      },
      "source": [
        "import urllib\n",
        "import urllib.request\n",
        "import json\n",
        "\n",
        "url = 'https://ckan.pf-sapporo.jp/api/3/action/datastore_search?resource_id=710b0236-6b28-441e-8500-f5c9be2e4c4a'\n",
        "response = urllib.request.urlopen(url)\n",
        "content = json.loads(response.read().decode('utf8'))\n",
        "\n",
        "#値を取り出すための変数を用意\n",
        "recode = content[\"result\"][\"records\"][2]\n",
        "for k, v in recode.items():\n",
        "    print(k + \":\" + str(v))"
      ],
      "execution_count": 2,
      "outputs": [
        {
          "output_type": "stream",
          "name": "stdout",
          "text": [
            "_id:3\n",
            "項目:総人口\n",
            "17年（2005）:1,881（100.0）\n",
            "22年（2010）:1,914（100.0）\n",
            "27年（2015）:1,937（100.0）\n",
            "32年（2020）:1,933（100.0）\n",
            "37年（2025）:1,911（100.0）\n",
            "42年（2030）:1,871（100.0）\n",
            "47年（2035）:1,818（100.0）\n"
          ]
        }
      ]
    },
    {
      "cell_type": "code",
      "metadata": {
        "colab": {
          "base_uri": "https://localhost:8080/",
          "height": 461
        },
        "id": "GHMaXwvXkgTL",
        "outputId": "83a7ed28-93c0-4e4f-9f58-e01456be0395"
      },
      "source": [
        "import urllib\n",
        "import urllib.request\n",
        "import json\n",
        "import re\n",
        "import matplotlib.pyplot as plt\n",
        "import japanize_matplotlib\n",
        "\n",
        "url = 'https://ckan.pf-sapporo.jp/api/3/action/datastore_search?resource_id=710b0236-6b28-441e-8500-f5c9be2e4c4a'\n",
        "response = urllib.request.urlopen(url)\n",
        "content = json.loads(response.read().decode('utf8'))\n",
        "\n",
        "#値を取り出すための変数を用意\n",
        "recode = content[\"result\"][\"records\"][2]\n",
        "#データラベルを初期化\n",
        "label = []\n",
        "#グラフデータを初期化\n",
        "data = []\n",
        "\n",
        "listdata = list(recode.items())\n",
        "listdata.pop(0)\n",
        "listdata.pop(0)\n",
        "for k, v in listdata:\n",
        "    l = re.search('[0-9]+年', k).group()\n",
        "    label.append(l)\n",
        "    v = v.replace(',','')\n",
        "    n = int(re.search('[0-9]+', v).group())\n",
        "    data.append(n*1000)\n",
        "print(label, data)\n",
        "x = [ 1, 2, 3, 4, 5, 6, 7 ]\n",
        "plt.bar( x, data ,tick_label = label)\n",
        "\n",
        "plt.show()"
      ],
      "execution_count": 6,
      "outputs": [
        {
          "output_type": "stream",
          "name": "stdout",
          "text": [
            "['17年', '22年', '27年', '32年', '37年', '42年', '47年'] [1881000, 1914000, 1937000, 1933000, 1911000, 1871000, 1818000]\n"
          ]
        },
        {
          "output_type": "display_data",
          "data": {
            "text/plain": [
              "<Figure size 640x480 with 1 Axes>"
            ],
            "image/png": "[encoded data removed]"
          },
          "metadata": {}
        }
      ]
    },
    {
      "cell_type": "code",
      "metadata": {
        "id": "hcHUMK0Skm-J",
        "outputId": "03d5f567-49db-4e88-e0a7-e4fbfbd865a4",
        "colab": {
          "base_uri": "https://localhost:8080/"
        }
      },
      "source": [
        "import urllib\n",
        "import urllib.request\n",
        "import json\n",
        "#全国JSONはこちらからhttps://www.jma.go.jp/bosai/forecast/data/forecast/010000.json\n",
        "#詳細データ\n",
        "url = 'https://www.jma.go.jp/bosai/forecast/data/forecast/012000.json'\n",
        "#概況\n",
        "url = 'https://www.jma.go.jp/bosai/forecast/data/overview_forecast/012000.json'\n",
        "response = urllib.request.urlopen(url)\n",
        "content = json.loads(response.read().decode('utf8'))\n",
        "\n",
        "#概況の表示\n",
        "print(content[\"text\"])"
      ],
      "execution_count": 8,
      "outputs": [
        {
          "output_type": "stream",
          "name": "stdout",
          "text": [
            "　北海道付近は、２６日は気圧の谷の中ですが、午後には次第に高気圧が張り出してくる見込みです。また、気圧の傾きが大きいでしょう。２７日は本州付近から高気圧が張り出しますが、夜にかけて日本海から気圧の谷が近づく見込みです。\n",
            "\n",
            "　上川・留萌地方の２６日３時の天気は、曇りで雨の降っている所があります。\n",
            "\n",
            "　２６日は、曇りのち時々晴れで、雨の降る所があるでしょう。\n",
            "\n",
            "　２７日は、曇り時々晴れで、雨の降る所がある見込みです。\n",
            "\n",
            "　海の波の高さは、２６日は１メートルのち１．５メートルとやや高くなるでしょう。２７日は１．５メートルのち２メートルとやや高い見込みです。\n"
          ]
        }
      ]
    }
  ]
}